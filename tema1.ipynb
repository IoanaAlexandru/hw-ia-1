{
 "cells": [
  {
   "cell_type": "markdown",
   "metadata": {},
   "source": [
    "# 🚖 IA - Homework 1 🚖\n",
    "**👩 Alexandru Ioana  \n",
    " _📓 341C4_**\n",
    " \n",
    "![Self driving cab](http://www.designmom.com/wp-content/uploads/2013/10/Google-Driverless-Taxi-Cab-537x389.jpg)"
   ]
  },
  {
   "cell_type": "markdown",
   "metadata": {},
   "source": [
    "## Problem representation\n",
    "\n",
    "The problem consists of **finding the optimal path of a cab which can pick up and drop off passengers on a given\n",
    "map**. For a simple solution, we define helper classes with different functions.\n",
    "\n",
    "### Coordinates\n",
    "\n",
    "The `Coordinate` class offers a simple way of handling coordinates of problem variables (the car, passengers,\n",
    "destinations)."
   ]
  },
  {
   "cell_type": "code",
   "execution_count": 1,
   "metadata": {
    "pycharm": {
     "is_executing": false,
     "name": "#%%\n"
    }
   },
   "outputs": [],
   "source": [
    "class Coordinate(object):\n",
    "    def __init__(self, x, y):\n",
    "        self.x = x\n",
    "        self.y = y\n",
    "\n",
    "    def __str__(self):\n",
    "        return '<' + str(self.x) + ',' + str(self.y) + '>'\n",
    "\n",
    "    def __eq__(self, other):\n",
    "        if self is other:\n",
    "            return True\n",
    "        if not isinstance(other, Coordinate):\n",
    "            return False\n",
    "        return self.y == other.y and self.x == other.x\n",
    "\n",
    "    def __repr__(self):\n",
    "        return \"Coordinate(%d, %d)\" % (self.x, self.y)\n",
    "    \n",
    "    def __hash__(self):\n",
    "        return hash(self.x) * 2 + hash(self.y) * 3"
   ]
  },
  {
   "cell_type": "markdown",
   "metadata": {},
   "source": [
    "#### Manhattan distance\n",
    "\n",
    "The **Manhattan distance** is the distance between two points measured along axes at right angles.\n",
    "\n",
    "In order to calculate heuristics, we will need to calculate this distance between two coordinates.\n",
    "\n",
    "![It's a surprise tool that will help us later](https://i.kym-cdn.com/photos/images/original/001/264/842/220.png)"
   ]
  },
  {
   "cell_type": "code",
   "execution_count": 2,
   "metadata": {
    "pycharm": {
     "is_executing": false,
     "name": "#%%\n"
    }
   },
   "outputs": [],
   "source": [
    "def manhattan_distance(start, end):\n",
    "    dx = abs(start.x - end.x)\n",
    "    dy = abs(start.y - end.y)\n",
    "    return dx + dy"
   ]
  },
  {
   "cell_type": "markdown",
   "metadata": {},
   "source": [
    "### Actions\n",
    "\n",
    "The `Action` enumeration defines all of the possible actions that the cab can take."
   ]
  },
  {
   "cell_type": "code",
   "execution_count": 3,
   "metadata": {
    "pycharm": {
     "is_executing": false,
     "name": "#%%\n"
    }
   },
   "outputs": [],
   "source": [
    "from enum import Enum\n",
    "\n",
    "class Action(Enum):\n",
    "    SOUTH = 'SOUTH'\n",
    "    NORTH = 'NORTH'\n",
    "    EAST = 'EAST'\n",
    "    WEST = 'WEST'\n",
    "    PICKUP = 'PICKUP'\n",
    "    DROPOFF = 'DROPOFF'\n",
    "    \n",
    "    def __str__(self):\n",
    "        return str(self.value)\n",
    "    \n",
    "    def __repr__(self):\n",
    "        return str(self.value)"
   ]
  },
  {
   "cell_type": "markdown",
   "metadata": {},
   "source": [
    "### Clients\n",
    "\n",
    "The `Client` class represents the client in our problem. Each client has an initial (`start`) position on the map, a\n",
    "`destination` they want to get to by taking a cab and a `budget` that they are willing to spend on the ride.\n",
    "\n",
    "Two clients are the same (`__eq__`) if they share a destination, initial location and budget."
   ]
  },
  {
   "cell_type": "code",
   "execution_count": 4,
   "metadata": {
    "pycharm": {
     "is_executing": false,
     "name": "#%%\n"
    }
   },
   "outputs": [],
   "source": [
    "class Client(object):\n",
    "    def __init__(self, start, destination, budget):\n",
    "        self.start = start\n",
    "        self.destination = destination\n",
    "        self.budget = budget\n",
    "\n",
    "    def __str__(self):\n",
    "        return 'Client starts at ' + str(self.start) + \\\n",
    "               ', wants to get to ' + str(self.destination) + \\\n",
    "               ' and will spend at most ' + str(self.budget) + '.'\n",
    "\n",
    "    def __eq__(self, other):\n",
    "        if self is other:\n",
    "            return True\n",
    "        if not isinstance(other, Client):\n",
    "            return False\n",
    "        return self.start == other.start and self.destination == other.destination and self.budget == other.budget\n",
    "\n",
    "    def __repr__(self):\n",
    "        return \"Client(%s, %s, %d)\" % (str(self.start), str(self.destination), self.budget)\n",
    "    \n",
    "    def __hash__(self):\n",
    "        return hash(self.start) * 2 + hash(self.destination) * 3 + hash(self.budget) * 5"
   ]
  },
  {
   "cell_type": "markdown",
   "metadata": {},
   "source": [
    "### The cab\n",
    "\n",
    "The `Cab` class represents a state of the single taxi cab in our problem. It has an initial `position` which can change\n",
    "if it takes a movement action (`Action.NORTH`, `Action.SOUTH`, `Action.EAST`, `Action.WEST`) via the `do` method.\n",
    "It also has an initial amount of `gas` (`max_gas`) which depletes by 1 unit with each movement.\n",
    "\n",
    "The cab can hold either one or no `passenger` at a specific point in time. It can pick up a passenger when it is\n",
    "located on the passenger's `start` position (`Action.PICKUP`), or drop off the passenger that is currently riding\n",
    "(`Action.DROPOFF`) when it is located on the passenger's wanted `destination`, at which point the cab's `balance` will\n",
    "increase by the passenger's `budget`.\n",
    "\n",
    "Based on the map information, when in a specific position the cab can only take a specific set of actions, which can be\n",
    "determined via the `get_available_actions` method.\n",
    "\n",
    "Two different states of the cab are the same (`__eq__`) if they share the position, the passenger and the balance. The\n",
    "actions taken as well as the amount of gas remaining are not taken into account in order to avoid running in circles."
   ]
  },
  {
   "cell_type": "code",
   "execution_count": 5,
   "metadata": {
    "pycharm": {
     "is_executing": false,
     "name": "#%%\n"
    }
   },
   "outputs": [],
   "source": [
    "from random import shuffle\n",
    "\n",
    "class Cab(object):\n",
    "    def __init__(self, position, gas):\n",
    "        self.position = position\n",
    "        self.passenger = None\n",
    "        self.gas = gas\n",
    "        self.max_gas = gas\n",
    "        self.balance = 0\n",
    "        self.actions = []\n",
    "        \n",
    "    def __str__(self):\n",
    "        has_passenger = 'has a passenger' if self.passenger is None else 'does not have a passenger'\n",
    "        return 'Cab is at position ' + str(self.position) + ' and ' + has_passenger + '.'\n",
    "\n",
    "    def __eq__(self, other):\n",
    "        if self is other:\n",
    "            return True\n",
    "        if not isinstance(other, Cab):\n",
    "            return False\n",
    "        return self.position == other.position and\\\n",
    "               self.passenger == other.passenger and\\\n",
    "               self.balance == other.balance\n",
    "\n",
    "    def __repr__(self):\n",
    "        return \"Cab(%s)\" % str(self.position)\n",
    "    \n",
    "    def __hash__(self):\n",
    "        return hash(self.position) * 2 + hash(self.passenger is None) * 3\n",
    "        \n",
    "    ### Check if actions are possible\n",
    "    \n",
    "    def out_of_gas(self):\n",
    "        return self.gas  == 0\n",
    "            \n",
    "    def get_available_actions(self, world):\n",
    "        actions = []\n",
    "        if not self.out_of_gas():\n",
    "            if self.__can_dropoff(world):\n",
    "                actions.append(Action.DROPOFF)\n",
    "            if self.__can_pickup(world):\n",
    "                actions.append(Action.PICKUP)\n",
    "            if self.__can_go_east(world):\n",
    "                actions.append(Action.EAST)\n",
    "            if self.__can_go_west(world):\n",
    "                actions.append(Action.WEST)\n",
    "            if self.__can_go_south(world):\n",
    "                actions.append(Action.SOUTH)\n",
    "            if self.__can_go_north(world):\n",
    "                actions.append(Action.NORTH)\n",
    "        shuffle(actions)\n",
    "        return actions\n",
    "        \n",
    "    def __can_go_west(self, world):\n",
    "        grid_coords = Coordinate(self.position.x + 1, self.position.y * 2 + 1)\n",
    "        return self.position.y > 0 and world.grid[grid_coords.x][grid_coords.y - 1] != '|'\n",
    "        \n",
    "    def __can_go_east(self, world):\n",
    "        grid_coords = Coordinate(self.position.x + 1, self.position.y * 2 + 1)\n",
    "        return self.position.y < world.width and world.grid[grid_coords.x][grid_coords.y + 1] != '|'\n",
    "        \n",
    "    def __can_go_north(self, world):\n",
    "        return self.position.x > 0\n",
    "        \n",
    "    def __can_go_south(self, world):\n",
    "        return self.position.x < world.height - 1\n",
    "    \n",
    "    def __can_pickup(self, world):\n",
    "        return self.passenger is None and list(filter(lambda x : x.start == self.position, world.clients))\n",
    "        \n",
    "    def __can_dropoff(self, world):\n",
    "        return self.passenger is not None and self.passenger.destination == self.position\n",
    "    \n",
    "    ### Do actions\n",
    "    \n",
    "    def do(self, action, world):\n",
    "        self.actions.append(action)\n",
    "        if action == Action.EAST:\n",
    "            self.__go_east(world)\n",
    "        elif action== Action.WEST:\n",
    "            self.__go_west(world)\n",
    "        elif action== Action.SOUTH:\n",
    "            self.__go_south(world)\n",
    "        elif action== Action.NORTH:\n",
    "            self.__go_north(world)\n",
    "        elif action== Action.PICKUP:\n",
    "            self.__pickup(world)\n",
    "        elif action== Action.DROPOFF:\n",
    "            self.__dropoff(world)\n",
    "    \n",
    "    def __go_east(self, world):\n",
    "        assert not self.out_of_gas() and self.__can_go_east(world)\n",
    "        self.gas -= 1\n",
    "        self.position.y += 1\n",
    "    \n",
    "    def __go_west(self, world):\n",
    "        assert not self.out_of_gas() and self.__can_go_west(world)\n",
    "        self.gas -= 1\n",
    "        self.position.y -= 1\n",
    "        \n",
    "    def __go_south(self, world):\n",
    "        assert not self.out_of_gas() and self.__can_go_south(world)\n",
    "        self.gas -= 1\n",
    "        self.position.x += 1\n",
    "        \n",
    "    def __go_north(self, world):\n",
    "        assert not self.out_of_gas() and self.__can_go_north(world)\n",
    "        self.gas -= 1\n",
    "        self.position.x -= 1\n",
    "        \n",
    "    def __pickup(self, world):\n",
    "        assert not self.out_of_gas() and self.__can_pickup(world)\n",
    "        client = list(filter(lambda x : x.start == self.position, world.clients))[0]\n",
    "        self.passenger = client\n",
    "        world.clients.remove(client)\n",
    "    \n",
    "    def __dropoff(self, world):\n",
    "        assert not self.out_of_gas() and self.__can_dropoff(world)\n",
    "        self.balance += self.passenger.budget\n",
    "        self.passenger = None\n",
    "        "
   ]
  },
  {
   "cell_type": "markdown",
   "metadata": {},
   "source": [
    "### The world\n",
    "\n",
    "We are representing the problem as a state ***space search problem***. A specific state in our problem consists of the\n",
    "map (`grid`), awaiting `clients` on the map, as well as a single `cab`. We will call this state our `world`.\n",
    "\n",
    "Since it is a space search problem, it has the following properties:\n",
    "- any given state can be **final** (we can check whether a state is final by using the `goal()` method);\n",
    "- from any given state, we can **transition** into a number of other states (which we can get by calling the transition\n",
    "  function, `succ()`);\n",
    "- a state has a specific **cost** associated with it, representing the amount of gas spent from the initial state up to\n",
    "  the given state, which we can obtain by calling `g()`.\n",
    "\n",
    "We consider two separate states of the problem to be the same when the state of the cab is the same (see\n",
    "[The cab](#The-cab)) and the list of awaiting clients is the same."
   ]
  },
  {
   "cell_type": "code",
   "execution_count": 133,
   "metadata": {
    "pycharm": {
     "is_executing": false,
     "name": "#%%\n"
    }
   },
   "outputs": [],
   "source": [
    "# coding=utf-8\n",
    "from copy import deepcopy, copy\n",
    "\n",
    "class World(object):\n",
    "    def __init__(self, grid, cab, clients):\n",
    "        self.width = len(grid[0]) // 2\n",
    "        self.height = len(grid) - 2\n",
    "        self.grid = grid\n",
    "        self.cab = cab\n",
    "        self.clients = clients\n",
    "\n",
    "    def __str__(self):\n",
    "        string = ''\n",
    "        for i, line in enumerate(self.grid, start=0):\n",
    "            for j, cell in enumerate(line, start=0):\n",
    "                coords = Coordinate(i - 1, j // 2)\n",
    "                if j % 2 == 0 and list(filter(lambda x: x.start == coords, self.clients)):\n",
    "                    string += '🚶'\n",
    "                elif j % 2 == 0 and self.cab.passenger is not None and self.cab.passenger.destination == coords:\n",
    "                    string += '🚏'\n",
    "                elif j % 2 == 1 and self.cab.position == coords:\n",
    "                    string += '🚘️'\n",
    "                elif i == j == 0:\n",
    "                    string += '┏'\n",
    "                elif i == 0 and j == len(line) - 1:\n",
    "                    string += '┓'\n",
    "                elif i == len(self.grid) - 1 and j == 0:\n",
    "                    string += '┗'\n",
    "                elif i == len(self.grid) - 1 and j == len(line) - 1:\n",
    "                    string += '┛'\n",
    "                elif cell == '|':\n",
    "                    string += '┃'\n",
    "                elif cell == ':':\n",
    "                    string += '┆'\n",
    "                elif cell == '-':\n",
    "                    if i > 0 and self.grid[i - 1][j] != ' ':\n",
    "                        string += '┻'\n",
    "                    elif i < len(self.grid) - 1 and self.grid[i + 1][j] != ' ':\n",
    "                        string += '┳'\n",
    "                    else:\n",
    "                        string += '━'\n",
    "                else:\n",
    "                    string += cell\n",
    "            string += '\\n'\n",
    "        return string\n",
    "\n",
    "    def __repr__(self):\n",
    "        return str(self)\n",
    "    \n",
    "    def __eq__(self, other):\n",
    "        if self is other:\n",
    "            return True\n",
    "        if not isinstance(other, World):\n",
    "            return False\n",
    "        return self.cab == other.cab and set(self.clients) == set(other.clients)\n",
    "    \n",
    "    def __hash__(self):\n",
    "        return hash(self.cab)\n",
    "    \n",
    "    def goal(self):\n",
    "        return self.cab.passenger is None and\\\n",
    "                (len(self.clients) == 0 or\\\n",
    "                 self.cab.out_of_gas() or\\\n",
    "                 min(manhattan_distance(world.cab.position, client.start)\\\n",
    "                   for client in world.clients) > self.cab.gas)\n",
    "    \n",
    "    def succ(self):\n",
    "        states = []\n",
    "        actions = self.cab.get_available_actions(self)\n",
    "        for action in actions:\n",
    "            cab_copy = deepcopy(self.cab)\n",
    "            clients_copy = copy(self.clients)\n",
    "            next = World(self.grid, cab_copy, clients_copy)\n",
    "            cab_copy.do(action, next)\n",
    "            states.append(next)\n",
    "        return states\n",
    "    \n",
    "    def g(self):\n",
    "        return self.cab.max_gas - self.cab.gas\n",
    "    \n",
    "    def h(self):\n",
    "        return 0"
   ]
  },
  {
   "cell_type": "markdown",
   "metadata": {},
   "source": [
    "## I/O operations\n",
    "\n",
    "In addition to implementing the `__str__` and `__repr__` methods for all of our classes, we will define functions for\n",
    "reading and writing of the problem data.\n",
    "\n",
    "### Reading\n",
    "\n",
    "The `read_data` function opens the file with the given `filename` and turns the data inside it into an instance of\n",
    "`World`."
   ]
  },
  {
   "cell_type": "code",
   "execution_count": 7,
   "metadata": {
    "pycharm": {
     "is_executing": false,
     "name": "#%%\n"
    }
   },
   "outputs": [],
   "source": [
    "def read_data(filename):\n",
    "    with open(filename, 'r') as f:\n",
    "        height, width, gas = [int(x) for x in next(f).split()]\n",
    "        car_position_y, car_position_x = [int(x) for x in next(f).split()]\n",
    "        cab = Cab(Coordinate(car_position_x, car_position_y), gas)\n",
    "        \n",
    "        client_count = int(next(f))\n",
    "        clients = []\n",
    "        for i in range(client_count):\n",
    "            start_y, start_x, destination_y, destination_x, budget = [int(x) for x in next(f).split()]\n",
    "            clients.append(Client(Coordinate(start_x, start_y), Coordinate(destination_x, destination_y), budget))\n",
    "\n",
    "        grid = []\n",
    "        for i in range(height + 2):\n",
    "            grid.append(list(next(f).rstrip()))\n",
    "            \n",
    "        return World(grid, cab, clients)"
   ]
  },
  {
   "cell_type": "markdown",
   "metadata": {},
   "source": [
    "### Writing\n",
    "\n",
    "The solution of our problem consists of a final state and a dictionary of parents. We have multiple ways of displaying\n",
    "that result.\n",
    "\n",
    "#### Listing\n",
    "\n",
    "The `print_result` function lists each step defined in a solution, from the initial state up to the final one. "
   ]
  },
  {
   "cell_type": "code",
   "execution_count": 8,
   "metadata": {
    "pycharm": {
     "is_executing": false,
     "name": "#%%\n"
    }
   },
   "outputs": [],
   "source": [
    "def print_result(state, parents):\n",
    "    next = parents[state]\n",
    "    if next is not None:\n",
    "        print_result(next, parents)\n",
    "    print(state)"
   ]
  },
  {
   "cell_type": "markdown",
   "metadata": {},
   "source": [
    "#### Animating\n",
    "\n",
    "The `animate_result` function works similarly with `print_result`, except it only shows each frame (step) for 0.4\n",
    "seconds before clearing the display and showing the following frame."
   ]
  },
  {
   "cell_type": "code",
   "execution_count": 9,
   "metadata": {
    "pycharm": {
     "is_executing": false,
     "name": "#%%\n"
    }
   },
   "outputs": [],
   "source": [
    "from IPython.core.display import clear_output\n",
    "import time\n",
    "\n",
    "def animate_result(state, parents):\n",
    "    next = parents[state]\n",
    "    if next is not None:\n",
    "        print_result(next, parents)\n",
    "    string = str(state)\n",
    "    clear_output()\n",
    "    print(string)\n",
    "    time.sleep(0.4)"
   ]
  },
  {
   "cell_type": "markdown",
   "metadata": {},
   "source": [
    "## Search algorithms\n",
    "\n",
    "We will solve the problem using different search algorithms (both informed and uninformed) in order to compare their\n",
    "performance, caveats and particularities."
   ]
  },
  {
   "cell_type": "markdown",
   "metadata": {},
   "source": [
    "While we can represent the solution in an intuitive way by drawing the map at each step (see [Writing](#Writing)), that\n",
    "can quickly become impractical for more complex inputs. A simpler way of representing a discovered solution is with a\n",
    "list of actions in the order that they are to be taken by the cab, as well as the total cost of that set of actions.\n",
    "That is what the `get_solution` function is doing."
   ]
  },
  {
   "cell_type": "code",
   "execution_count": 10,
   "metadata": {
    "pycharm": {
     "is_executing": false,
     "name": "#%%\n"
    }
   },
   "outputs": [],
   "source": [
    "def get_solution(state, parents):\n",
    "    actions = state.cab.actions\n",
    "    cost = state.g()\n",
    "    return actions, cost"
   ]
  },
  {
   "cell_type": "markdown",
   "metadata": {},
   "source": [
    "Additionally, not all solutions are equivalent. We can evaluate the quality of a solution by adding the remaining fuel and the final balance:"
   ]
  },
  {
   "cell_type": "code",
   "execution_count": 58,
   "metadata": {},
   "outputs": [],
   "source": [
    "def evaluate_solution(state, parents):\n",
    "    return state.cab.gas + state.cab.balance"
   ]
  },
  {
   "cell_type": "markdown",
   "metadata": {},
   "source": [
    "### Uninformed search strategies\n",
    "\n",
    "An **uninformed search** is a searching technique that has _no additional information about the distance from the\n",
    "current state to the goal_.\n",
    "\n",
    "#### Breadth-first search\n",
    "\n",
    "**Breadth-first search (BFS)** is an algorithm which starts at the initial state (_s0_) and explores all of the possible\n",
    "states that can be transitioned to at the present depth prior to moving on to the states at the next depth level. \n",
    "\n",
    "A naïve implementation of BFS simply adds all states that can be explored to the back of a queue (we will also make sure\n",
    "not to have duplicates in the queue, since it would be unbearably slow otherwise):"
   ]
  },
  {
   "cell_type": "code",
   "execution_count": 11,
   "metadata": {
    "pycharm": {
     "is_executing": false,
     "name": "#%%\n"
    }
   },
   "outputs": [],
   "source": [
    "def bfs(world):\n",
    "    open = [world]\n",
    "    parents = {world : None}\n",
    "    while len(open) > 0:\n",
    "        current = open.pop(0)\n",
    "        if current.goal():\n",
    "            return current, parents\n",
    "        for next in current.succ():\n",
    "            if next not in open:\n",
    "                parents[next] = current\n",
    "                open.append(next)\n",
    "    return None"
   ]
  },
  {
   "cell_type": "markdown",
   "metadata": {
    "pycharm": {
     "name": "#%% md\n"
    }
   },
   "source": [
    "A simple way of optimizing this algorithm is by saving the visited nodes and not processing them again:"
   ]
  },
  {
   "cell_type": "code",
   "execution_count": 12,
   "metadata": {
    "pycharm": {
     "is_executing": false,
     "name": "#%%\n"
    }
   },
   "outputs": [],
   "source": [
    "def optimized_bfs(world):\n",
    "    open = [world]\n",
    "    closed = []\n",
    "    parents = {world : None}\n",
    "    while len(open) > 0:\n",
    "        current = open.pop(0)\n",
    "        if current.goal():\n",
    "            return current, parents\n",
    "        for next in current.succ():\n",
    "            if next not in open and next not in closed:\n",
    "                parents[next] = current\n",
    "                open.append(next)\n",
    "        closed.append(current)\n",
    "    return None"
   ]
  },
  {
   "cell_type": "markdown",
   "metadata": {
    "pycharm": {
     "name": "#%% md\n"
    }
   },
   "source": [
    "Let's check that both algorithms lead to the same solution:"
   ]
  },
  {
   "cell_type": "code",
   "execution_count": 145,
   "metadata": {
    "pycharm": {
     "is_executing": false,
     "name": "#%%\n"
    }
   },
   "outputs": [
    {
     "name": "stdout",
     "output_type": "stream",
     "text": [
      "([NORTH, WEST, SOUTH, SOUTH, PICKUP, NORTH, NORTH, NORTH, NORTH, DROPOFF], 8)\n"
     ]
    }
   ],
   "source": [
    "world = read_data('input')\n",
    "bfs1 = get_solution(*bfs(world))\n",
    "bfs2 = get_solution(*optimized_bfs(world))\n",
    "assert bfs1 == bfs2\n",
    "print(bfs1)"
   ]
  },
  {
   "cell_type": "code",
   "execution_count": 134,
   "metadata": {},
   "outputs": [
    {
     "data": {
      "text/plain": [
       "([NORTH, NORTH, EAST, EAST], 4)"
      ]
     },
     "execution_count": 134,
     "metadata": {},
     "output_type": "execute_result"
    }
   ],
   "source": [
    "get_solution(*optimized_bfs(data[0]))"
   ]
  },
  {
   "cell_type": "markdown",
   "metadata": {
    "pycharm": {
     "name": "#%% md\n"
    }
   },
   "source": [
    "Now let's compare their performance:"
   ]
  },
  {
   "cell_type": "code",
   "execution_count": 137,
   "metadata": {
    "pycharm": {
     "is_executing": false,
     "name": "#%%\n"
    }
   },
   "outputs": [
    {
     "name": "stdout",
     "output_type": "stream",
     "text": [
      "10 loops, best of 3: 35 ms per loop\n",
      "100 loops, best of 3: 11.2 ms per loop\n"
     ]
    }
   ],
   "source": [
    "%timeit bfs(world)\n",
    "%timeit optimized_bfs(world)"
   ]
  },
  {
   "cell_type": "markdown",
   "metadata": {
    "pycharm": {
     "name": "#%% md\n"
    }
   },
   "source": [
    "As we can see, the optimized version is significantly faster. That is due to the fact that the naïve version is likely\n",
    "to check the same state multiple times, hence wasting time without gaining any additional information.\n",
    "\n",
    "#### Uniform cost search\n",
    "\n",
    "**Uniform Cost Search (UCS)** is similar to **BFS**, except instead of exploring each state in the order it was\n",
    "discovered, it prioritizes exploring the states which have a lower cost associated with them (in our case, a lower\n",
    "amount of gas used by the cab in order to arrive to that state, or `g()`) by using a priority queue."
   ]
  },
  {
   "cell_type": "code",
   "execution_count": 15,
   "metadata": {
    "pycharm": {
     "is_executing": false,
     "name": "#%%\n"
    }
   },
   "outputs": [],
   "source": [
    "# Using heapq to implement the priority queue\n",
    "import heapq"
   ]
  },
  {
   "cell_type": "code",
   "execution_count": 139,
   "metadata": {
    "pycharm": {
     "is_executing": false
    }
   },
   "outputs": [],
   "source": [
    "# Define a sub-class which orders instances based on g()\n",
    "class UniformWorld(World):\n",
    "    def __lt__(self, other):\n",
    "        return self.g() < other.g()"
   ]
  },
  {
   "cell_type": "markdown",
   "metadata": {
    "pycharm": {
     "name": "#%% md\n"
    }
   },
   "source": [
    "As with **BFS**, we can have the naïve implementation:"
   ]
  },
  {
   "cell_type": "code",
   "execution_count": 140,
   "metadata": {
    "pycharm": {
     "is_executing": false,
     "name": "#%%\n"
    }
   },
   "outputs": [],
   "source": [
    "def ucs(world):\n",
    "    open = [world]\n",
    "    parents = {world : None}\n",
    "    while len(open) > 0:\n",
    "        current = open.pop(0)\n",
    "        if current.goal():\n",
    "            return current, parents\n",
    "        for next in current.succ():\n",
    "            if next not in open:\n",
    "                parents[next] = current\n",
    "                # heapq uses the __lt__ method to sort the states\n",
    "                next.__class__ = UniformWorld\n",
    "                heapq.heappush(open, next)\n",
    "    return None"
   ]
  },
  {
   "cell_type": "markdown",
   "metadata": {
    "pycharm": {
     "name": "#%% md\n"
    }
   },
   "source": [
    "And the optimized one:"
   ]
  },
  {
   "cell_type": "code",
   "execution_count": 141,
   "metadata": {
    "pycharm": {
     "is_executing": false,
     "name": "#%%\n"
    }
   },
   "outputs": [],
   "source": [
    "def optimized_ucs(world):\n",
    "    open = [world]\n",
    "    closed = []\n",
    "    parents = {world : None}\n",
    "    while len(open) > 0:\n",
    "        current = open.pop(0)\n",
    "        if current.goal():\n",
    "            return current, parents\n",
    "        for next in current.succ():\n",
    "            if next not in open and next not in closed:\n",
    "                parents[next] = current\n",
    "                # heapq uses the __lt__ method to sort the states\n",
    "                next.__class__ = UniformWorld\n",
    "                heapq.heappush(open, next)\n",
    "        closed.append(current)\n",
    "    return None"
   ]
  },
  {
   "cell_type": "markdown",
   "metadata": {},
   "source": [
    "As before, both versions should lead to the same solution:"
   ]
  },
  {
   "cell_type": "code",
   "execution_count": 144,
   "metadata": {
    "pycharm": {
     "is_executing": false,
     "name": "#%%\n"
    }
   },
   "outputs": [
    {
     "name": "stdout",
     "output_type": "stream",
     "text": [
      "([NORTH, WEST, SOUTH, SOUTH, PICKUP, NORTH, NORTH, NORTH, NORTH, DROPOFF], 8)\n"
     ]
    }
   ],
   "source": [
    "world = read_data('input')\n",
    "ucs1 = get_solution(*ucs(world))\n",
    "ucs2 = get_solution(*optimized_ucs(world))\n",
    "assert ucs1 == ucs2\n",
    "print(ucs1)"
   ]
  },
  {
   "cell_type": "code",
   "execution_count": 146,
   "metadata": {},
   "outputs": [
    {
     "data": {
      "text/plain": [
       "([EAST, SOUTH, EAST, SOUTH], 4)"
      ]
     },
     "execution_count": 146,
     "metadata": {},
     "output_type": "execute_result"
    }
   ],
   "source": [
    "get_solution(*optimized_ucs(data[0]))"
   ]
  },
  {
   "cell_type": "markdown",
   "metadata": {},
   "source": [
    "Now let's compare their performance:"
   ]
  },
  {
   "cell_type": "code",
   "execution_count": 147,
   "metadata": {
    "pycharm": {
     "is_executing": false,
     "name": "#%%\n"
    }
   },
   "outputs": [
    {
     "name": "stdout",
     "output_type": "stream",
     "text": [
      "10 loops, best of 3: 24.6 ms per loop\n",
      "100 loops, best of 3: 9.84 ms per loop\n"
     ]
    }
   ],
   "source": [
    "%timeit ucs(world)\n",
    "%timeit optimized_ucs(world)"
   ]
  },
  {
   "cell_type": "markdown",
   "metadata": {
    "pycharm": {
     "name": "#%% md\n"
    }
   },
   "source": [
    "As expected, the optimized algorithm is significantly faster.\n",
    "\n",
    "#### Depth-first search\n",
    "\n",
    "**Depth-first search (DFS)** is different from **BFS** in that it explores as far (deep) as possible along each path\n",
    "before backtracking.\n",
    "\n",
    "This behaviour can be obtained by using a stack instead of a queue (or in our case, inserting elements at the beginning\n",
    "of the list):"
   ]
  },
  {
   "cell_type": "code",
   "execution_count": 148,
   "metadata": {
    "pycharm": {
     "is_executing": false,
     "name": "#%%\n"
    }
   },
   "outputs": [],
   "source": [
    "def dfs(world):\n",
    "    open = [world]\n",
    "    parents = {world : None}\n",
    "    while len(open) > 0:\n",
    "        current = open.pop(0)\n",
    "        if current.goal():\n",
    "            return current, parents\n",
    "        for next in current.succ():\n",
    "            if next not in open:\n",
    "                parents[next] = current\n",
    "                open.insert(0, next)\n",
    "    return None"
   ]
  },
  {
   "cell_type": "markdown",
   "metadata": {
    "pycharm": {
     "name": "#%% md\n"
    }
   },
   "source": [
    "We can once again optimize by saving the visited states:"
   ]
  },
  {
   "cell_type": "code",
   "execution_count": 149,
   "metadata": {
    "pycharm": {
     "is_executing": false,
     "name": "#%%\n"
    }
   },
   "outputs": [],
   "source": [
    "def optimized_dfs(world):\n",
    "    open = [world]\n",
    "    closed = []\n",
    "    parents = {world : None}\n",
    "    while len(open) > 0:\n",
    "        current = open.pop(0)\n",
    "        if current.goal():\n",
    "            return current, parents\n",
    "        for next in current.succ():\n",
    "            if next not in open and next not in closed:\n",
    "                parents[next] = current\n",
    "                open.insert(0, next)\n",
    "        closed.append(current)\n",
    "    return None"
   ]
  },
  {
   "cell_type": "markdown",
   "metadata": {
    "pycharm": {
     "name": "#%% md\n"
    }
   },
   "source": [
    "This time, the naïve implementation's solution will most likely just be running around until out of gas, while the\n",
    "optimized solution will offer a solution which might not always be the most cost-efficient one. This behaviour is due to\n",
    "the fact that **DFS** will return the first final state it reaches, which will usually not be the most cost-effective\n",
    "one because `succ` returns the following states in a random order."
   ]
  },
  {
   "cell_type": "code",
   "execution_count": 150,
   "metadata": {
    "pycharm": {
     "is_executing": false,
     "name": "#%%\n"
    }
   },
   "outputs": [
    {
     "name": "stdout",
     "output_type": "stream",
     "text": [
      "([SOUTH, EAST, WEST, EAST, WEST, EAST, WEST, EAST, WEST, EAST, WEST, EAST, WEST, EAST, WEST, EAST, WEST, EAST, WEST, EAST, WEST, EAST, WEST, EAST, WEST, EAST, WEST, EAST, WEST, EAST, WEST, EAST, WEST, EAST, WEST, EAST, WEST, EAST, WEST, EAST, WEST, EAST, WEST, EAST, WEST, EAST, WEST, EAST, WEST, EAST, WEST, EAST, WEST, EAST, WEST, EAST, WEST, EAST, WEST, EAST, WEST, EAST, WEST, EAST, WEST, EAST, WEST, EAST, WEST, EAST, WEST, EAST, WEST, EAST, WEST, EAST, WEST, EAST, WEST, EAST, WEST, EAST, WEST, EAST, WEST, EAST, WEST, EAST, WEST, EAST, WEST, EAST, WEST, EAST, WEST, EAST, WEST, EAST, WEST], 99)\n",
      "([NORTH, WEST, SOUTH, SOUTH, PICKUP, NORTH, NORTH, NORTH, NORTH, DROPOFF], 8)\n"
     ]
    }
   ],
   "source": [
    "world = read_data('input')\n",
    "dfs1 = get_solution(*dfs(world))\n",
    "dfs2 = get_solution(*optimized_dfs(world))\n",
    "print(dfs1)\n",
    "print(dfs2)"
   ]
  },
  {
   "cell_type": "code",
   "execution_count": 153,
   "metadata": {},
   "outputs": [
    {
     "data": {
      "text/plain": [
       "([WEST, SOUTH, SOUTH, EAST], 4)"
      ]
     },
     "execution_count": 153,
     "metadata": {},
     "output_type": "execute_result"
    }
   ],
   "source": [
    "get_solution(*optimized_dfs(data[0]))"
   ]
  },
  {
   "cell_type": "markdown",
   "metadata": {},
   "source": [
    "The performance difference is even more obvious here:"
   ]
  },
  {
   "cell_type": "code",
   "execution_count": 154,
   "metadata": {
    "pycharm": {
     "is_executing": false,
     "name": "#%%\n"
    }
   },
   "outputs": [
    {
     "name": "stdout",
     "output_type": "stream",
     "text": [
      "10 loops, best of 3: 27.6 ms per loop\n",
      "100 loops, best of 3: 11.1 ms per loop\n"
     ]
    }
   ],
   "source": [
    "%timeit dfs(world)\n",
    "%timeit optimized_dfs(world)"
   ]
  },
  {
   "cell_type": "markdown",
   "metadata": {},
   "source": [
    "#### Depth-limited search\n",
    "\n",
    "**Depth-limited search (DLS)** improves upon **DFS** by that it limits the maximum depth that the algorithm can get to,\n",
    "in order to avoid recursing infinitely in case the goal is unreachable or going too far onto the wrong path.\n",
    "\n",
    "The caveat that this version adds is the fact that, if the cutoff is too low, we may encounter a \"false\" failure caused\n",
    "by the goal not being reachable within the set depth.\n",
    "\n",
    "> ***NOTE:*** Our problem is technically already depth-limited by design, since the cab cannot move more than its gas\n",
    "> tank allows it to move. It could still make a virtually unlimited amount of PICKUP/DROPOFF actions, but since the\n",
    "> number of clients on the map is also finite, that is not possible either.\n",
    "\n",
    "The naïve solution:"
   ]
  },
  {
   "cell_type": "code",
   "execution_count": 155,
   "metadata": {
    "pycharm": {
     "is_executing": false,
     "name": "#%% DLS\n"
    }
   },
   "outputs": [],
   "source": [
    "def dls(world, k):\n",
    "    open = [(0, world)]\n",
    "    parents = {world : None}\n",
    "    while len(open) > 0:\n",
    "        depth, current = open.pop(0)\n",
    "        if current.goal():\n",
    "            return current, parents\n",
    "        if depth >= k:\n",
    "            continue\n",
    "        for next in current.succ():\n",
    "            if next not in [x[1] for x in open]:\n",
    "                parents[next] = current\n",
    "                open.insert(0, (depth + 1, next))\n",
    "    return None"
   ]
  },
  {
   "cell_type": "markdown",
   "metadata": {},
   "source": [
    "The optimized solution:"
   ]
  },
  {
   "cell_type": "code",
   "execution_count": 167,
   "metadata": {
    "pycharm": {
     "is_executing": false
    }
   },
   "outputs": [],
   "source": [
    "def optimized_dls(world, k):\n",
    "    open = [(0, world)]\n",
    "    closed = []\n",
    "    parents = {world : None}\n",
    "    while len(open) > 0:\n",
    "        depth, current = open.pop(0)\n",
    "        if current.goal():\n",
    "            return current, parents\n",
    "        if depth >= k:\n",
    "            continue\n",
    "        for next in current.succ():\n",
    "            if (next not in [x[1] for x in open]) and (next not in closed):\n",
    "                parents[next] = current\n",
    "                open.insert(0, (depth + 1, next))\n",
    "        closed.append(current)\n",
    "    return None"
   ]
  },
  {
   "cell_type": "markdown",
   "metadata": {},
   "source": [
    "Four our sample data, we already know that the ideal sequence of actions has a length of 10 and a cost of 8, therefore\n",
    "`k = 10` should be deep enough for us to find this solution:"
   ]
  },
  {
   "cell_type": "code",
   "execution_count": 180,
   "metadata": {
    "pycharm": {
     "is_executing": false,
     "name": "#%% Test DLS\n"
    }
   },
   "outputs": [
    {
     "name": "stdout",
     "output_type": "stream",
     "text": [
      "([NORTH, WEST, SOUTH, SOUTH, PICKUP, NORTH, NORTH, NORTH, NORTH, DROPOFF], 8)\n"
     ]
    }
   ],
   "source": [
    "world = read_data('input')\n",
    "dls1 = get_solution(*dls(world, 10))\n",
    "dls2 = get_solution(*optimized_dls(world, 10))\n",
    "assert dls1 == dls2\n",
    "print(dls1)"
   ]
  },
  {
   "cell_type": "code",
   "execution_count": 174,
   "metadata": {},
   "outputs": [
    {
     "data": {
      "text/plain": [
       "([SOUTH,\n",
       "  WEST,\n",
       "  PICKUP,\n",
       "  NORTH,\n",
       "  EAST,\n",
       "  EAST,\n",
       "  SOUTH,\n",
       "  SOUTH,\n",
       "  EAST,\n",
       "  DROPOFF,\n",
       "  WEST,\n",
       "  NORTH,\n",
       "  NORTH,\n",
       "  WEST,\n",
       "  WEST,\n",
       "  WEST],\n",
       " 14)"
      ]
     },
     "execution_count": 174,
     "metadata": {},
     "output_type": "execute_result"
    }
   ],
   "source": [
    "get_solution(*optimized_dls(data[1], 18))"
   ]
  },
  {
   "cell_type": "markdown",
   "metadata": {},
   "source": [
    "As we can see, this time both the naïve and the optimized versions eventually reach the same (good) solution thanks to\n",
    "the cutoff value, which prevents them from going in the wrong direction.\n",
    "\n",
    "Now for the performance:"
   ]
  },
  {
   "cell_type": "code",
   "execution_count": 178,
   "metadata": {
    "pycharm": {
     "is_executing": true
    }
   },
   "outputs": [
    {
     "name": "stdout",
     "output_type": "stream",
     "text": [
      "1 loop, best of 3: 282 ms per loop\n",
      "100 loops, best of 3: 6.45 ms per loop\n"
     ]
    }
   ],
   "source": [
    "%timeit dls(world, 10)\n",
    "%timeit optimized_dls(world, 10)"
   ]
  },
  {
   "cell_type": "markdown",
   "metadata": {},
   "source": [
    "Since the naïve solution is likely to go off track many times before finally finding the good solution, it is incredibly\n",
    "slow compared to the optimized one.\n",
    "\n",
    "#### Iterative deepening search\n",
    "\n",
    "**Iterative deepening search** takes **DLS** one step further by incrementally trying different values for the depth\n",
    "until a solution is found.\n",
    "\n",
    "We can use the simple **DLS** algorithm:"
   ]
  },
  {
   "cell_type": "code",
   "execution_count": 181,
   "metadata": {
    "pycharm": {
     "is_executing": true,
     "name": "#%% IDS\n"
    }
   },
   "outputs": [],
   "source": [
    "def ids(world):\n",
    "    k = 0\n",
    "    while True:\n",
    "        result = dls(world, k)\n",
    "        if result is not None:\n",
    "            return result\n",
    "        k += 1     "
   ]
  },
  {
   "cell_type": "markdown",
   "metadata": {},
   "source": [
    "Or the optimized one:"
   ]
  },
  {
   "cell_type": "code",
   "execution_count": 182,
   "metadata": {
    "pycharm": {
     "is_executing": true
    }
   },
   "outputs": [],
   "source": [
    "def optimized_ids(world):\n",
    "    k = 0\n",
    "    while True:\n",
    "        result = optimized_dls(world, k)\n",
    "        if result is not None:\n",
    "            return result\n",
    "        k += 1  "
   ]
  },
  {
   "cell_type": "markdown",
   "metadata": {},
   "source": [
    "We _cheated_ earlier since we already knew a good value for `k`. However, most of the time we won't know the value\n",
    "beforehand, so the best way to find the minimum value of `k` as well as the best solution is to increment `k` and keep\n",
    "trying **DLS** until we succeed. We already know that we'll reach a good solution here when k becomes 10:"
   ]
  },
  {
   "cell_type": "code",
   "execution_count": 183,
   "metadata": {
    "pycharm": {
     "is_executing": true,
     "name": "#%% Test IDS\n"
    }
   },
   "outputs": [
    {
     "name": "stdout",
     "output_type": "stream",
     "text": [
      "([NORTH, WEST, SOUTH, SOUTH, PICKUP, NORTH, NORTH, NORTH, NORTH, DROPOFF], 8)\n"
     ]
    }
   ],
   "source": [
    "world = read_data('input')\n",
    "ids1 = get_solution(*ids(world))\n",
    "ids2 = get_solution(*optimized_ids(world))\n",
    "assert ids1 == ids2\n",
    "print(ids1)"
   ]
  },
  {
   "cell_type": "code",
   "execution_count": 184,
   "metadata": {},
   "outputs": [
    {
     "data": {
      "text/plain": [
       "([NORTH, EAST, NORTH, EAST], 4)"
      ]
     },
     "execution_count": 184,
     "metadata": {},
     "output_type": "execute_result"
    }
   ],
   "source": [
    "get_solution(*optimized_ids(data[0]))"
   ]
  },
  {
   "cell_type": "markdown",
   "metadata": {},
   "source": [
    "As for the performance, it is slow compared to the other algorithms since it involves running **DLS** multiple times:"
   ]
  },
  {
   "cell_type": "code",
   "execution_count": 186,
   "metadata": {
    "pycharm": {
     "is_executing": true
    }
   },
   "outputs": [
    {
     "name": "stdout",
     "output_type": "stream",
     "text": [
      "1 loop, best of 3: 1.36 s per loop\n",
      "10 loops, best of 3: 43.3 ms per loop\n"
     ]
    }
   ],
   "source": [
    "%timeit ids(world)\n",
    "%timeit optimized_ids(world)"
   ]
  },
  {
   "cell_type": "markdown",
   "metadata": {},
   "source": [
    "### Informed search strategies\n",
    "\n",
    "**Informed search strategies** use additional information about states (heuristics - `h()` - which estimate how far from\n",
    "the goal a given state is) that have not yet been explored to decide which state to examine next.\n",
    "\n",
    "One possible heuristic for our problem is the Manhattan distance from the current position of the cab to either the\n",
    "clients's destination (if the cab has a passenger), or the closest potential client:"
   ]
  },
  {
   "cell_type": "code",
   "execution_count": 35,
   "metadata": {
    "pycharm": {
     "is_executing": true,
     "name": "#%%\n"
    }
   },
   "outputs": [],
   "source": [
    "def h1(world):\n",
    "    if world.goal():\n",
    "        return 0\n",
    "    if world.cab.passenger is not None:  # distance to the passenger's destination\n",
    "        return manhattan_distance(world.cab.position, world.cab.passenger.destination)\n",
    "    else:  # distance to the closest potential client\n",
    "        return min(manhattan_distance(world.cab.position, client.start) for client in world.clients)"
   ]
  },
  {
   "cell_type": "markdown",
   "metadata": {},
   "source": [
    "Another heuristic could also take into account the client's budget in addition to the distance (the higher the budget,\n",
    "the lower the impact a longer distance will have on the cost):"
   ]
  },
  {
   "cell_type": "code",
   "execution_count": 36,
   "metadata": {
    "pycharm": {
     "is_executing": true,
     "name": "#%%\n"
    }
   },
   "outputs": [],
   "source": [
    "def h2(world):\n",
    "    if world.goal():\n",
    "        return 0\n",
    "    if world.cab.passenger is not None:  # distance to the passenger's destination\n",
    "        return manhattan_distance(world.cab.position, world.cab.passenger.destination)\n",
    "    else:  # distance to the closest potential client divided by their budget\n",
    "        return min(manhattan_distance(world.cab.position, client.start) / client.budget for client in world.clients)"
   ]
  },
  {
   "cell_type": "markdown",
   "metadata": {},
   "source": [
    "#### Greedy best-first search\n",
    "\n",
    "The **Greedy best-first search** algorithm is similar to **UCS**, except that it uses heuristics. Instead of selecting\n",
    "the state closest to the starting point, it selects the state closest to the goal. **GBFS** is not guaranteed to find\n",
    "the most cost-efficient path. However, it runs much quicker than **UCS** because it uses the heuristic function to guide\n",
    "its way towards the goal very quickly."
   ]
  },
  {
   "cell_type": "code",
   "execution_count": 187,
   "metadata": {
    "pycharm": {
     "is_executing": true,
     "name": "#%%\n"
    }
   },
   "outputs": [],
   "source": [
    "# Define a sub-class which orders instances based on h()\n",
    "class GreedyWorld(World):\n",
    "    def __lt__(self, other):\n",
    "        return self.h() < other.h()"
   ]
  },
  {
   "cell_type": "markdown",
   "metadata": {},
   "source": [
    "Since it is similar to **UCS**, it also has a naïve solution:"
   ]
  },
  {
   "cell_type": "code",
   "execution_count": 188,
   "metadata": {
    "pycharm": {
     "is_executing": true,
     "name": "#%%\n"
    }
   },
   "outputs": [],
   "source": [
    "def gbfs(world, heuristic):\n",
    "    World.h = heuristic\n",
    "    open = [world]\n",
    "    parents = {world : None}\n",
    "    while len(open) > 0:\n",
    "        current = open.pop(0)\n",
    "        if current.goal():\n",
    "            return current, parents\n",
    "        for next in current.succ():\n",
    "            if next not in open:\n",
    "                parents[next] = current\n",
    "                # heapq uses the __lt__ method to sort the states\n",
    "                next.__class__ = GreedyWorld\n",
    "                heapq.heappush(open, next)\n",
    "    return None"
   ]
  },
  {
   "cell_type": "markdown",
   "metadata": {},
   "source": [
    "As well as an optimized one:"
   ]
  },
  {
   "cell_type": "code",
   "execution_count": 189,
   "metadata": {
    "pycharm": {
     "is_executing": true
    }
   },
   "outputs": [],
   "source": [
    "def optimized_gbfs(world, heuristic):\n",
    "    World.h = heuristic\n",
    "    open = [world]\n",
    "    closed = []\n",
    "    parents = {world : None}\n",
    "    while len(open) > 0:\n",
    "        current = open.pop(0)\n",
    "        if current.goal():\n",
    "            return current, parents\n",
    "        for next in current.succ():\n",
    "            if next not in open and next not in closed:\n",
    "                parents[next] = current\n",
    "                # heapq uses the __lt__ method to sort the states\n",
    "                next.__class__ = GreedyWorld\n",
    "                heapq.heappush(open, next)\n",
    "        closed.append(current)\n",
    "    return None"
   ]
  },
  {
   "cell_type": "markdown",
   "metadata": {},
   "source": [
    "On our sample data, like the unoptimized **DFS**, the unoptimized **GBFS** goes into a loop since, because it only takes\n",
    "into account the Manhattan distance between a state and the destination (be it the closest client or the passenger's\n",
    "destination) and there is an obstacle between the initial state and the closest client, making it keep moving between\n",
    "two states which don't allow it to reach the client.\n",
    "\n",
    "The optimized version, however, quickly reaches the solution:"
   ]
  },
  {
   "cell_type": "code",
   "execution_count": 190,
   "metadata": {
    "pycharm": {
     "is_executing": true,
     "name": "#%% Test GBFS\n"
    }
   },
   "outputs": [
    {
     "name": "stdout",
     "output_type": "stream",
     "text": [
      "([SOUTH, EAST, WEST, EAST, WEST, EAST, WEST, EAST, WEST, EAST, WEST, EAST, WEST, EAST, WEST, EAST, WEST, EAST, WEST, EAST, WEST, EAST, WEST, EAST, WEST, EAST, WEST, EAST, WEST, EAST, WEST, EAST, WEST, EAST, WEST, EAST, WEST, EAST, WEST, EAST, WEST, EAST, WEST, EAST, WEST, EAST, WEST, EAST, WEST, EAST, WEST, EAST, WEST, EAST, WEST, EAST, WEST, EAST, WEST, EAST, WEST, EAST, WEST, EAST, WEST, EAST, WEST, EAST, WEST, EAST, WEST, EAST, WEST, EAST, WEST, EAST, WEST, EAST, WEST, EAST, WEST, EAST, WEST, EAST, WEST, EAST, WEST, EAST, WEST, EAST, WEST, EAST, WEST, EAST, WEST, EAST, WEST, EAST, WEST], 99)\n",
      "([NORTH, WEST, SOUTH, SOUTH, PICKUP, NORTH, NORTH, NORTH, NORTH, DROPOFF], 8)\n"
     ]
    }
   ],
   "source": [
    "world = read_data('input')\n",
    "gbfs1 = get_solution(*gbfs(world, h1))\n",
    "gbfs2 = get_solution(*optimized_gbfs(world, h1))\n",
    "print(gbfs1)\n",
    "print(gbfs2)"
   ]
  },
  {
   "cell_type": "code",
   "execution_count": 191,
   "metadata": {},
   "outputs": [
    {
     "data": {
      "text/plain": [
       "([NORTH, WEST, WEST, NORTH], 4)"
      ]
     },
     "execution_count": 191,
     "metadata": {},
     "output_type": "execute_result"
    }
   ],
   "source": [
    "get_solution(*optimized_gbfs(data[0], h1))"
   ]
  },
  {
   "cell_type": "markdown",
   "metadata": {},
   "source": [
    "The performance is very good:"
   ]
  },
  {
   "cell_type": "code",
   "execution_count": 192,
   "metadata": {
    "pycharm": {
     "is_executing": true
    }
   },
   "outputs": [
    {
     "name": "stdout",
     "output_type": "stream",
     "text": [
      "10 loops, best of 3: 44 ms per loop\n",
      "100 loops, best of 3: 4.14 ms per loop\n"
     ]
    }
   ],
   "source": [
    "%timeit gbfs(world, h1)\n",
    "%timeit optimized_gbfs(world, h1)"
   ]
  },
  {
   "cell_type": "markdown",
   "metadata": {},
   "source": [
    "#### A* Search\n",
    "\n",
    "A* combines heuristic approaches like **GBFS** and formal approaches like **UCS**. Unlike the majority of heuristic\n",
    "approaches, which usually give you an approximate way to solve problems without guaranteeing that you get the best\n",
    "answer, A* can guarantee a shortest path, even though the heuristic itself does not give any guarantees."
   ]
  },
  {
   "cell_type": "code",
   "execution_count": 193,
   "metadata": {
    "pycharm": {
     "is_executing": true,
     "name": "#%%\n"
    }
   },
   "outputs": [],
   "source": [
    "# Define a sub-class which orders instances based on both g() and h()\n",
    "class SmartWorld(World):\n",
    "    def __lt__(self, other):\n",
    "        return self.g() + self.h() < other.g() + other.h()"
   ]
  },
  {
   "cell_type": "markdown",
   "metadata": {},
   "source": [
    "The unoptimized A* is:"
   ]
  },
  {
   "cell_type": "code",
   "execution_count": 194,
   "metadata": {
    "pycharm": {
     "is_executing": true,
     "name": "#%%\n"
    }
   },
   "outputs": [],
   "source": [
    "def a_star(world, heuristic):\n",
    "    World.h = heuristic\n",
    "    open = [world]\n",
    "    parents = {world : None}\n",
    "    while len(open) > 0:\n",
    "        current = open.pop(0)\n",
    "        if current.goal():\n",
    "            return current, parents\n",
    "        for next in current.succ():\n",
    "            if next not in open:\n",
    "                parents[next] = current\n",
    "                # heapq uses the __lt__ method to sort the states\n",
    "                next.__class__ = SmartWorld\n",
    "                heapq.heappush(open, next)\n",
    "    return None"
   ]
  },
  {
   "cell_type": "markdown",
   "metadata": {},
   "source": [
    "And the optimized version is:"
   ]
  },
  {
   "cell_type": "code",
   "execution_count": 195,
   "metadata": {
    "pycharm": {
     "is_executing": true
    }
   },
   "outputs": [],
   "source": [
    "def optimized_a_star(world, heuristic):\n",
    "    World.h = heuristic\n",
    "    open = [world]\n",
    "    closed = []\n",
    "    parents = {world : None}\n",
    "    while len(open) > 0:\n",
    "        current = open.pop(0)\n",
    "        if current.goal():\n",
    "            return current, parents\n",
    "        for next in current.succ():\n",
    "            if next not in open and next not in closed:\n",
    "                parents[next] = current\n",
    "                # heapq uses the __lt__ method to sort the states\n",
    "                next.__class__ = SmartWorld\n",
    "                heapq.heappush(open, next)\n",
    "        closed.append(current)\n",
    "    return None"
   ]
  },
  {
   "cell_type": "markdown",
   "metadata": {},
   "source": [
    "Since the cost takes into account both distance and gas cost, both versions will reach a good solution:"
   ]
  },
  {
   "cell_type": "code",
   "execution_count": 196,
   "metadata": {
    "pycharm": {
     "is_executing": true,
     "name": "#%% Test AS\n"
    }
   },
   "outputs": [
    {
     "name": "stdout",
     "output_type": "stream",
     "text": [
      "([NORTH, WEST, SOUTH, SOUTH, PICKUP, NORTH, NORTH, NORTH, NORTH, DROPOFF], 8)\n",
      "([NORTH, WEST, SOUTH, SOUTH, PICKUP, NORTH, NORTH, NORTH, NORTH, DROPOFF], 8)\n"
     ]
    }
   ],
   "source": [
    "world = read_data('input')\n",
    "a_star1 = get_solution(*a_star(world, h1))\n",
    "a_star2 = get_solution(*optimized_a_star(world, h1))\n",
    "print(a_star1)\n",
    "print(a_star2)"
   ]
  },
  {
   "cell_type": "code",
   "execution_count": 209,
   "metadata": {},
   "outputs": [
    {
     "data": {
      "text/plain": [
       "([NORTH, WEST, WEST, NORTH], 4)"
      ]
     },
     "execution_count": 209,
     "metadata": {},
     "output_type": "execute_result"
    }
   ],
   "source": [
    "get_solution(*optimized_a_star(data[0], h1))"
   ]
  },
  {
   "cell_type": "markdown",
   "metadata": {},
   "source": [
    "The optimized algorithm is very fast, but the unoptimized one is not too bad either:"
   ]
  },
  {
   "cell_type": "code",
   "execution_count": 198,
   "metadata": {
    "pycharm": {
     "is_executing": true
    }
   },
   "outputs": [
    {
     "name": "stdout",
     "output_type": "stream",
     "text": [
      "100 loops, best of 3: 15.1 ms per loop\n",
      "100 loops, best of 3: 6.57 ms per loop\n"
     ]
    }
   ],
   "source": [
    "%timeit a_star(world, h1)\n",
    "%timeit optimized_a_star(world, h1)"
   ]
  },
  {
   "cell_type": "markdown",
   "metadata": {},
   "source": [
    "#### Hill-Climbing Search"
   ]
  },
  {
   "cell_type": "code",
   "execution_count": 47,
   "metadata": {
    "pycharm": {
     "is_executing": true,
     "name": "#%%\n"
    }
   },
   "outputs": [],
   "source": [
    "def hcs(world, heuristic):\n",
    "    World.h = heuristic\n",
    "    current = world\n",
    "    parents = {world : None}\n",
    "    done = False\n",
    "    current_cost = current.g() + current.h()\n",
    "    while not done:\n",
    "        maximum = current_cost\n",
    "        next_state = None\n",
    "        for next in current.succ():\n",
    "            cost = next.g() + next.h()\n",
    "            if cost > maximum:\n",
    "                maximum = cost\n",
    "                next_state = next\n",
    "        if next_state is None:\n",
    "            done = True\n",
    "        else:\n",
    "            parents[next_state] = current\n",
    "            current = next_state\n",
    "            current_cost = maximum\n",
    "    return current, parents"
   ]
  },
  {
   "cell_type": "markdown",
   "metadata": {
    "pycharm": {
     "name": "#%% md\n"
    }
   },
   "source": [
    "## Comparative analysis\n",
    "\n"
   ]
  },
  {
   "cell_type": "code",
   "execution_count": 48,
   "metadata": {},
   "outputs": [],
   "source": [
    "data = [read_data(filename) for filename in ['tests/test' + str(x) + '.in' for x in range(1, 7)]]\n",
    "times = {}"
   ]
  },
  {
   "cell_type": "code",
   "execution_count": null,
   "metadata": {},
   "outputs": [],
   "source": [
    "times['BFS'] = []\n",
    "for d in data:\n",
    "    timeitresult = %timeit -o -q optimized_bfs(d)\n",
    "    times['BFS'].append(sum(timeitresult.all_runs) / len(timeitresult.all_runs))"
   ]
  },
  {
   "cell_type": "code",
   "execution_count": null,
   "metadata": {},
   "outputs": [],
   "source": [
    "times['DFS'] = []\n",
    "for d in data:\n",
    "    timeitresult = %timeit -o -q optimized_dfs(d)\n",
    "    times['DFS'].append(sum(timeitresult.all_runs) / len(timeitresult.all_runs))"
   ]
  },
  {
   "cell_type": "code",
   "execution_count": null,
   "metadata": {},
   "outputs": [],
   "source": [
    "times['UCS'] = []\n",
    "for d in data:\n",
    "    timeitresult = %timeit -o -q optimized_ucs(d)\n",
    "    times['UCS'].append(sum(timeitresult.all_runs) / len(timeitresult.all_runs))"
   ]
  },
  {
   "cell_type": "code",
   "execution_count": null,
   "metadata": {},
   "outputs": [],
   "source": [
    "times['IDS'] = []\n",
    "for d in data:\n",
    "    timeitresult = %timeit -o -q optimized_ids(d)\n",
    "    times['IDS'].append(sum(timeitresult.all_runs) / len(timeitresult.all_runs))"
   ]
  },
  {
   "cell_type": "code",
   "execution_count": null,
   "metadata": {},
   "outputs": [],
   "source": [
    "times['GBFS'] = []\n",
    "for d in data:\n",
    "    timeitresult = %timeit -o -q optimized_gbfs(d, h1)\n",
    "    times['GBFS'].append(sum(timeitresult.all_runs) / len(timeitresult.all_runs))"
   ]
  },
  {
   "cell_type": "code",
   "execution_count": null,
   "metadata": {},
   "outputs": [],
   "source": [
    "times['A*'] = []\n",
    "for d in data:\n",
    "    timeitresult = %timeit -o -q optimized_a_star(d, h1)\n",
    "    times['A*'].append(sum(timeitresult.all_runs) / len(timeitresult.all_runs))"
   ]
  },
  {
   "cell_type": "code",
   "execution_count": null,
   "metadata": {},
   "outputs": [],
   "source": [
    "%matplotlib inline\n",
    "import matplotlib.pyplot as plt\n",
    "algorithms = ['BFS', 'DFS', 'UCS', 'IDS', 'GBFS', 'A*']\n",
    "plt.figure(figsize=(15,15))\n",
    "for a in algorithms:\n",
    "    plt.plot(a, data=times, label=a)\n",
    "plt.xlabel('input')\n",
    "plt.ylabel('time(s)')\n",
    "plt.xlim([0, 5])\n",
    "\n",
    "plt.legend()\n",
    "plt.show()"
   ]
  },
  {
   "cell_type": "code",
   "execution_count": 199,
   "metadata": {},
   "outputs": [],
   "source": [
    "quality = {}"
   ]
  },
  {
   "cell_type": "code",
   "execution_count": 205,
   "metadata": {},
   "outputs": [],
   "source": [
    "quality['BFS'] = []\n",
    "for d in data:\n",
    "    quality['BFS'].append(evaluate_solution(*optimized_bfs(d)))"
   ]
  },
  {
   "cell_type": "code",
   "execution_count": 203,
   "metadata": {},
   "outputs": [],
   "source": [
    "quality['DFS'] = []\n",
    "for d in data:\n",
    "    quality['DFS'].append(evaluate_solution(*optimized_dfs(d)))"
   ]
  },
  {
   "cell_type": "code",
   "execution_count": null,
   "metadata": {},
   "outputs": [],
   "source": [
    "quality['UCS'] = []\n",
    "for d in data:\n",
    "    quality['UCS'].append(evaluate_solution(*optimized_ucs(d)))"
   ]
  },
  {
   "cell_type": "code",
   "execution_count": null,
   "metadata": {},
   "outputs": [],
   "source": [
    "quality['IDS'] = []\n",
    "for d in data:\n",
    "    quality['IDS'].append(evaluate_solution(*optimized_ids(d)))"
   ]
  },
  {
   "cell_type": "code",
   "execution_count": 201,
   "metadata": {},
   "outputs": [],
   "source": [
    "quality['GBFS1'] = []\n",
    "for d in data:\n",
    "    quality['GBFS1'].append(evaluate_solution(*optimized_gbfs(d, h1)))"
   ]
  },
  {
   "cell_type": "code",
   "execution_count": 202,
   "metadata": {},
   "outputs": [],
   "source": [
    "quality['GBFS2'] = []\n",
    "for d in data:\n",
    "    quality['GBFS2'].append(evaluate_solution(*optimized_gbfs(d, h2)))"
   ]
  },
  {
   "cell_type": "code",
   "execution_count": 210,
   "metadata": {},
   "outputs": [],
   "source": [
    "quality['A*1'] = []\n",
    "for d in data:\n",
    "    quality['A*1'].append(evaluate_solution(*optimized_a_star(d, h1)))"
   ]
  },
  {
   "cell_type": "code",
   "execution_count": 211,
   "metadata": {},
   "outputs": [],
   "source": [
    "quality['A*2'] = []\n",
    "for d in data:\n",
    "    quality['A*2'].append(evaluate_solution(*optimized_a_star(d, h2)))"
   ]
  },
  {
   "cell_type": "code",
   "execution_count": 207,
   "metadata": {},
   "outputs": [
    {
     "data": {
      "image/png": "[encoded data removed]",
      "text/plain": [
       "<Figure size 1080x1080 with 1 Axes>"
      ]
     },
     "metadata": {
      "needs_background": "light"
     },
     "output_type": "display_data"
    }
   ],
   "source": [
    "%matplotlib inline\n",
    "import matplotlib.pyplot as plt\n",
    "algorithms = ['BFS', 'DFS', 'UCS', 'IDS', 'GBFS1', 'GBFS2', 'A*1', 'A*2']\n",
    "plt.figure(figsize=(15,15))\n",
    "for a in algorithms:\n",
    "    plt.plot(a, data=quality, label=a)\n",
    "plt.xlabel('input')\n",
    "plt.ylabel('quality')\n",
    "plt.xlim([0, 5])\n",
    "\n",
    "plt.legend()\n",
    "plt.show()"
   ]
  },
  {
   "cell_type": "markdown",
   "metadata": {
    "pycharm": {
     "name": "#%% md\n"
    }
   },
   "source": [
    "|                                          | BFS     | o_BFS | UCS     | o_UCS | DFS     | o_DFS |\n",
    "|------------------------------------------|---------|-------|---------|-------|---------|-------|\n",
    "| Always reaches a solution (if available) | YES     | YES   | YES     | YES   | NO      | YES   |\n",
    "| The solution is optimal                  | YES     | YES   | YES     | YES   | NO      | NO    |\n",
    "| Avoids re-processing states              | NO      | YES   | NO      | YES   | NO      | YES   |\n",
    "| Uses heuristics                          | NO      | NO    | NO      | NO    | NO      | NO    |\n",
    "| Speed                                    | AVERAGE | FAST  | AVERAGE | FAST  | AVERAGE | FAST  |\n",
    "\n",
    "|                                          | DLS          | o_DLS        | IDS       | o_IDS |\n",
    "|------------------------------------------|--------------|--------------|-----------|-------|\n",
    "| Always reaches a solution (if available) | DEPENDS ON K | DEPENDS ON K | YES       | YES   |\n",
    "| The solution is optimal                  | NO           | NO           | YES       | YES   |\n",
    "| Avoids re-processing states              | NO           | YES          | NO        | YES   |\n",
    "| Uses heuristics                          | NO           | NO           | NO        | NO    |\n",
    "| Speed                                    | VERY SLOW    | FAST         | VERY SLOW | SLOW  |\n",
    "\n",
    "|                                          | GBFS | o_GBFS    | A*   | o_A*      |\n",
    "|------------------------------------------|------|-----------|------|-----------|\n",
    "| Always reaches a solution (if available) | NO   | NO        | YES  | YES       |\n",
    "| The solution is optimal                  | NO   | NO        | YES  | YES       |\n",
    "| Avoids re-processing states              | NO   | YES       | NO   | YES       |\n",
    "| Uses heuristics                          | YES  | YES       | YES  | YES       |\n",
    "| Speed                                    | SLOW | VERY FAST | FAST | VERY FAST |"
   ]
  }
 ],
 "metadata": {
  "kernelspec": {
   "display_name": "Python 2",
   "language": "python",
   "name": "python2"
  },
  "language_info": {
   "codemirror_mode": {
    "name": "ipython",
    "version": 2
   },
   "file_extension": ".py",
   "mimetype": "text/x-python",
   "name": "python",
   "nbconvert_exporter": "python",
   "pygments_lexer": "ipython2",
   "version": "2.7.15+"
  },
  "pycharm": {
   "stem_cell": {
    "cell_type": "raw",
    "metadata": {
     "collapsed": false
    },
    "source": []
   }
  }
 },
 "nbformat": 4,
 "nbformat_minor": 1
}
